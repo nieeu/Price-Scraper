{
 "cells": [
  {
   "cell_type": "code",
   "execution_count": 1,
   "metadata": {},
   "outputs": [],
   "source": [
    "from bs4 import BeautifulSoup as Soup\n",
    "import os\n",
    "import re\n",
    "import requests"
   ]
  },
  {
   "cell_type": "code",
   "execution_count": 2,
   "metadata": {},
   "outputs": [],
   "source": [
    "url = \"https://shopdunk.com/iphone\"\n",
    "page = requests.get(url)\n",
    "\n",
    "soup = Soup(page.content, 'html.parser')\n",
    "text = str(soup)"
   ]
  },
  {
   "cell_type": "code",
   "execution_count": 3,
   "metadata": {},
   "outputs": [
    {
     "data": {
      "text/plain": [
       "[['iphone-14-pro-max', '36.990.000₫', '29.990.000₫'],\n",
       " ['iphone-14-pro', '31.990.000₫', '27.950.000₫'],\n",
       " ['iphone-14-128gb', '24.990.000₫', '20.450.000₫'],\n",
       " ['iphone-14-plus-128gb', '27.990.000₫', '22.950.000₫'],\n",
       " ['iphone-13', '24.990.000₫', '18.450.000₫'],\n",
       " ['iphone-13-mini', '21.990.000₫', '16.990.000₫'],\n",
       " ['iphone-11', '14.990.000₫', '10.750.000₫'],\n",
       " ['iphone-se-2022', '12.990.000₫', '9.990.000₫'],\n",
       " ['iphone-12-64gb', '22.990.000₫', '15.950.000₫'],\n",
       " ['iphone-12-128gb', '24.990.000₫', '17.590.000₫']]"
      ]
     },
     "execution_count": 3,
     "metadata": {},
     "output_type": "execute_result"
    }
   ],
   "source": [
    "list = []\n",
    "\n",
    "for i in range(0,10):\n",
    "    \n",
    "    test = soup.find_all(\"div\", class_=\"product-item\")[i]\n",
    "\n",
    "    text = str(test)\n",
    "\n",
    "    product_name = test.find('a', href=True)['href'][1:]\n",
    "\n",
    "    old_price = re.search('\\<span class=\"price old-price\">(.*?)\\</span>', text).group(1)\n",
    "\n",
    "    actual_price = re.search('\\<span class=\"price actual-price\">(.*?)\\</span>', text).group(1)\n",
    "\n",
    "    mini_list = [product_name, old_price, actual_price]\n",
    "\n",
    "    list.append(mini_list)\n",
    "\n",
    "list"
   ]
  },
  {
   "cell_type": "code",
   "execution_count": 4,
   "metadata": {},
   "outputs": [],
   "source": [
    "# To csv file\n",
    "import csv\n",
    "cols = ['Product Name', 'Old Price', 'Actual Price'] \n",
    "  \n",
    "with open('iphone-price', 'w') as f:\n",
    "      \n",
    "    # using csv.writer method from CSV package\n",
    "    write = csv.writer(f)\n",
    "      \n",
    "    write.writerow(cols)\n",
    "    write.writerows(list)"
   ]
  }
 ],
 "metadata": {
  "kernelspec": {
   "display_name": "base",
   "language": "python",
   "name": "python3"
  },
  "language_info": {
   "codemirror_mode": {
    "name": "ipython",
    "version": 3
   },
   "file_extension": ".py",
   "mimetype": "text/x-python",
   "name": "python",
   "nbconvert_exporter": "python",
   "pygments_lexer": "ipython3",
   "version": "3.9.13"
  },
  "orig_nbformat": 4,
  "vscode": {
   "interpreter": {
    "hash": "bcb3813061628fb692355bbd946778adcd8b58522a415712fe13f7ec20f4f95f"
   }
  }
 },
 "nbformat": 4,
 "nbformat_minor": 2
}
